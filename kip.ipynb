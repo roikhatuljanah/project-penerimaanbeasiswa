{
 "cells": [
  {
   "cell_type": "code",
   "execution_count": 49,
   "metadata": {},
   "outputs": [],
   "source": [
    "import numpy as np\n",
    "import pandas as pd\n",
    "import matplotlib.pyplot as plt\n",
    "import skfuzzy as fuzz\n",
    "from skfuzzy import control as ctrl\n"
   ]
  },
  {
   "cell_type": "code",
   "execution_count": 50,
   "metadata": {},
   "outputs": [],
   "source": [
    "df_kip = pd.read_csv('student-data-train.csv')"
   ]
  },
  {
   "cell_type": "code",
   "execution_count": 51,
   "metadata": {},
   "outputs": [
    {
     "data": {
      "text/html": [
       "<div>\n",
       "<style scoped>\n",
       "    .dataframe tbody tr th:only-of-type {\n",
       "        vertical-align: middle;\n",
       "    }\n",
       "\n",
       "    .dataframe tbody tr th {\n",
       "        vertical-align: top;\n",
       "    }\n",
       "\n",
       "    .dataframe thead th {\n",
       "        text-align: right;\n",
       "    }\n",
       "</style>\n",
       "<table border=\"1\" class=\"dataframe\">\n",
       "  <thead>\n",
       "    <tr style=\"text-align: right;\">\n",
       "      <th></th>\n",
       "      <th>Alias</th>\n",
       "      <th>Prestasi</th>\n",
       "      <th>NilaiUjian</th>\n",
       "      <th>PenghasilanOrtu</th>\n",
       "      <th>PunyaSejenisKIP</th>\n",
       "      <th>KepemilikanRumah</th>\n",
       "      <th>Target</th>\n",
       "    </tr>\n",
       "  </thead>\n",
       "  <tbody>\n",
       "    <tr>\n",
       "      <th>0</th>\n",
       "      <td>_RARE_</td>\n",
       "      <td>0</td>\n",
       "      <td>65</td>\n",
       "      <td>2.1</td>\n",
       "      <td>0</td>\n",
       "      <td>2</td>\n",
       "      <td>0</td>\n",
       "    </tr>\n",
       "    <tr>\n",
       "      <th>1</th>\n",
       "      <td>_RARE_</td>\n",
       "      <td>0</td>\n",
       "      <td>70</td>\n",
       "      <td>2.7</td>\n",
       "      <td>1</td>\n",
       "      <td>2</td>\n",
       "      <td>0</td>\n",
       "    </tr>\n",
       "    <tr>\n",
       "      <th>2</th>\n",
       "      <td>_RARE_</td>\n",
       "      <td>1</td>\n",
       "      <td>59</td>\n",
       "      <td>2.6</td>\n",
       "      <td>1</td>\n",
       "      <td>2</td>\n",
       "      <td>0</td>\n",
       "    </tr>\n",
       "    <tr>\n",
       "      <th>3</th>\n",
       "      <td>_RARE_</td>\n",
       "      <td>1</td>\n",
       "      <td>80</td>\n",
       "      <td>2.7</td>\n",
       "      <td>0</td>\n",
       "      <td>2</td>\n",
       "      <td>1</td>\n",
       "    </tr>\n",
       "    <tr>\n",
       "      <th>4</th>\n",
       "      <td>_RARE_</td>\n",
       "      <td>0</td>\n",
       "      <td>60</td>\n",
       "      <td>2.5</td>\n",
       "      <td>1</td>\n",
       "      <td>2</td>\n",
       "      <td>0</td>\n",
       "    </tr>\n",
       "    <tr>\n",
       "      <th>...</th>\n",
       "      <td>...</td>\n",
       "      <td>...</td>\n",
       "      <td>...</td>\n",
       "      <td>...</td>\n",
       "      <td>...</td>\n",
       "      <td>...</td>\n",
       "      <td>...</td>\n",
       "    </tr>\n",
       "    <tr>\n",
       "      <th>995</th>\n",
       "      <td>_RARE_</td>\n",
       "      <td>0</td>\n",
       "      <td>58</td>\n",
       "      <td>2.2</td>\n",
       "      <td>1</td>\n",
       "      <td>2</td>\n",
       "      <td>1</td>\n",
       "    </tr>\n",
       "    <tr>\n",
       "      <th>996</th>\n",
       "      <td>_RARE_</td>\n",
       "      <td>0</td>\n",
       "      <td>78</td>\n",
       "      <td>2.9</td>\n",
       "      <td>0</td>\n",
       "      <td>2</td>\n",
       "      <td>0</td>\n",
       "    </tr>\n",
       "    <tr>\n",
       "      <th>997</th>\n",
       "      <td>_RARE_</td>\n",
       "      <td>0</td>\n",
       "      <td>58</td>\n",
       "      <td>2.6</td>\n",
       "      <td>0</td>\n",
       "      <td>2</td>\n",
       "      <td>0</td>\n",
       "    </tr>\n",
       "    <tr>\n",
       "      <th>998</th>\n",
       "      <td>_RARE_</td>\n",
       "      <td>0</td>\n",
       "      <td>79</td>\n",
       "      <td>2.5</td>\n",
       "      <td>0</td>\n",
       "      <td>2</td>\n",
       "      <td>0</td>\n",
       "    </tr>\n",
       "    <tr>\n",
       "      <th>999</th>\n",
       "      <td>_RARE_</td>\n",
       "      <td>1</td>\n",
       "      <td>78</td>\n",
       "      <td>2.2</td>\n",
       "      <td>1</td>\n",
       "      <td>2</td>\n",
       "      <td>1</td>\n",
       "    </tr>\n",
       "  </tbody>\n",
       "</table>\n",
       "<p>1000 rows × 7 columns</p>\n",
       "</div>"
      ],
      "text/plain": [
       "      Alias  Prestasi  NilaiUjian  PenghasilanOrtu  PunyaSejenisKIP  \\\n",
       "0    _RARE_         0          65              2.1                0   \n",
       "1    _RARE_         0          70              2.7                1   \n",
       "2    _RARE_         1          59              2.6                1   \n",
       "3    _RARE_         1          80              2.7                0   \n",
       "4    _RARE_         0          60              2.5                1   \n",
       "..      ...       ...         ...              ...              ...   \n",
       "995  _RARE_         0          58              2.2                1   \n",
       "996  _RARE_         0          78              2.9                0   \n",
       "997  _RARE_         0          58              2.6                0   \n",
       "998  _RARE_         0          79              2.5                0   \n",
       "999  _RARE_         1          78              2.2                1   \n",
       "\n",
       "     KepemilikanRumah  Target  \n",
       "0                   2       0  \n",
       "1                   2       0  \n",
       "2                   2       0  \n",
       "3                   2       1  \n",
       "4                   2       0  \n",
       "..                ...     ...  \n",
       "995                 2       1  \n",
       "996                 2       0  \n",
       "997                 2       0  \n",
       "998                 2       0  \n",
       "999                 2       1  \n",
       "\n",
       "[1000 rows x 7 columns]"
      ]
     },
     "execution_count": 51,
     "metadata": {},
     "output_type": "execute_result"
    }
   ],
   "source": [
    "df_kip"
   ]
  },
  {
   "cell_type": "code",
   "execution_count": 52,
   "metadata": {},
   "outputs": [],
   "source": [
    "df_kip.drop('Alias', axis=1, inplace=True)"
   ]
  },
  {
   "cell_type": "code",
   "execution_count": 53,
   "metadata": {},
   "outputs": [
    {
     "data": {
      "text/html": [
       "<div>\n",
       "<style scoped>\n",
       "    .dataframe tbody tr th:only-of-type {\n",
       "        vertical-align: middle;\n",
       "    }\n",
       "\n",
       "    .dataframe tbody tr th {\n",
       "        vertical-align: top;\n",
       "    }\n",
       "\n",
       "    .dataframe thead th {\n",
       "        text-align: right;\n",
       "    }\n",
       "</style>\n",
       "<table border=\"1\" class=\"dataframe\">\n",
       "  <thead>\n",
       "    <tr style=\"text-align: right;\">\n",
       "      <th></th>\n",
       "      <th>Prestasi</th>\n",
       "      <th>NilaiUjian</th>\n",
       "      <th>PenghasilanOrtu</th>\n",
       "      <th>PunyaSejenisKIP</th>\n",
       "      <th>KepemilikanRumah</th>\n",
       "      <th>Target</th>\n",
       "    </tr>\n",
       "  </thead>\n",
       "  <tbody>\n",
       "    <tr>\n",
       "      <th>0</th>\n",
       "      <td>0</td>\n",
       "      <td>65</td>\n",
       "      <td>2.1</td>\n",
       "      <td>0</td>\n",
       "      <td>2</td>\n",
       "      <td>0</td>\n",
       "    </tr>\n",
       "    <tr>\n",
       "      <th>1</th>\n",
       "      <td>0</td>\n",
       "      <td>70</td>\n",
       "      <td>2.7</td>\n",
       "      <td>1</td>\n",
       "      <td>2</td>\n",
       "      <td>0</td>\n",
       "    </tr>\n",
       "    <tr>\n",
       "      <th>2</th>\n",
       "      <td>1</td>\n",
       "      <td>59</td>\n",
       "      <td>2.6</td>\n",
       "      <td>1</td>\n",
       "      <td>2</td>\n",
       "      <td>0</td>\n",
       "    </tr>\n",
       "    <tr>\n",
       "      <th>3</th>\n",
       "      <td>1</td>\n",
       "      <td>80</td>\n",
       "      <td>2.7</td>\n",
       "      <td>0</td>\n",
       "      <td>2</td>\n",
       "      <td>1</td>\n",
       "    </tr>\n",
       "    <tr>\n",
       "      <th>4</th>\n",
       "      <td>0</td>\n",
       "      <td>60</td>\n",
       "      <td>2.5</td>\n",
       "      <td>1</td>\n",
       "      <td>2</td>\n",
       "      <td>0</td>\n",
       "    </tr>\n",
       "    <tr>\n",
       "      <th>...</th>\n",
       "      <td>...</td>\n",
       "      <td>...</td>\n",
       "      <td>...</td>\n",
       "      <td>...</td>\n",
       "      <td>...</td>\n",
       "      <td>...</td>\n",
       "    </tr>\n",
       "    <tr>\n",
       "      <th>995</th>\n",
       "      <td>0</td>\n",
       "      <td>58</td>\n",
       "      <td>2.2</td>\n",
       "      <td>1</td>\n",
       "      <td>2</td>\n",
       "      <td>1</td>\n",
       "    </tr>\n",
       "    <tr>\n",
       "      <th>996</th>\n",
       "      <td>0</td>\n",
       "      <td>78</td>\n",
       "      <td>2.9</td>\n",
       "      <td>0</td>\n",
       "      <td>2</td>\n",
       "      <td>0</td>\n",
       "    </tr>\n",
       "    <tr>\n",
       "      <th>997</th>\n",
       "      <td>0</td>\n",
       "      <td>58</td>\n",
       "      <td>2.6</td>\n",
       "      <td>0</td>\n",
       "      <td>2</td>\n",
       "      <td>0</td>\n",
       "    </tr>\n",
       "    <tr>\n",
       "      <th>998</th>\n",
       "      <td>0</td>\n",
       "      <td>79</td>\n",
       "      <td>2.5</td>\n",
       "      <td>0</td>\n",
       "      <td>2</td>\n",
       "      <td>0</td>\n",
       "    </tr>\n",
       "    <tr>\n",
       "      <th>999</th>\n",
       "      <td>1</td>\n",
       "      <td>78</td>\n",
       "      <td>2.2</td>\n",
       "      <td>1</td>\n",
       "      <td>2</td>\n",
       "      <td>1</td>\n",
       "    </tr>\n",
       "  </tbody>\n",
       "</table>\n",
       "<p>1000 rows × 6 columns</p>\n",
       "</div>"
      ],
      "text/plain": [
       "     Prestasi  NilaiUjian  PenghasilanOrtu  PunyaSejenisKIP  KepemilikanRumah  \\\n",
       "0           0          65              2.1                0                 2   \n",
       "1           0          70              2.7                1                 2   \n",
       "2           1          59              2.6                1                 2   \n",
       "3           1          80              2.7                0                 2   \n",
       "4           0          60              2.5                1                 2   \n",
       "..        ...         ...              ...              ...               ...   \n",
       "995         0          58              2.2                1                 2   \n",
       "996         0          78              2.9                0                 2   \n",
       "997         0          58              2.6                0                 2   \n",
       "998         0          79              2.5                0                 2   \n",
       "999         1          78              2.2                1                 2   \n",
       "\n",
       "     Target  \n",
       "0         0  \n",
       "1         0  \n",
       "2         0  \n",
       "3         1  \n",
       "4         0  \n",
       "..      ...  \n",
       "995       1  \n",
       "996       0  \n",
       "997       0  \n",
       "998       0  \n",
       "999       1  \n",
       "\n",
       "[1000 rows x 6 columns]"
      ]
     },
     "execution_count": 53,
     "metadata": {},
     "output_type": "execute_result"
    }
   ],
   "source": [
    "df_kip"
   ]
  },
  {
   "cell_type": "code",
   "execution_count": 54,
   "metadata": {},
   "outputs": [
    {
     "data": {
      "text/plain": [
       "((1000, 5), (1000,))"
      ]
     },
     "execution_count": 54,
     "metadata": {},
     "output_type": "execute_result"
    }
   ],
   "source": [
    "features = ['Prestasi', 'NilaiUjian', 'PenghasilanOrtu', 'PunyaSejenisKIP', 'KepemilikanRumah']\n",
    "x = df_kip[features]\n",
    "y = df_kip['Target']\n",
    "x.shape, y.shape"
   ]
  },
  {
   "cell_type": "code",
   "execution_count": 55,
   "metadata": {},
   "outputs": [],
   "source": [
    "from sklearn.model_selection import train_test_split\n",
    "x_train, x_test, y_train, y_test = train_test_split(x,y, test_size=0.2, random_state=1)"
   ]
  },
  {
   "cell_type": "code",
   "execution_count": 58,
   "metadata": {},
   "outputs": [],
   "source": [
    "from sklearn.linear_model import LinearRegression"
   ]
  },
  {
   "cell_type": "code",
   "execution_count": 59,
   "metadata": {},
   "outputs": [],
   "source": [
    "regresi = LinearRegression()"
   ]
  },
  {
   "cell_type": "code",
   "execution_count": 60,
   "metadata": {},
   "outputs": [
    {
     "data": {
      "text/html": [
       "<style>#sk-container-id-1 {color: black;}#sk-container-id-1 pre{padding: 0;}#sk-container-id-1 div.sk-toggleable {background-color: white;}#sk-container-id-1 label.sk-toggleable__label {cursor: pointer;display: block;width: 100%;margin-bottom: 0;padding: 0.3em;box-sizing: border-box;text-align: center;}#sk-container-id-1 label.sk-toggleable__label-arrow:before {content: \"▸\";float: left;margin-right: 0.25em;color: #696969;}#sk-container-id-1 label.sk-toggleable__label-arrow:hover:before {color: black;}#sk-container-id-1 div.sk-estimator:hover label.sk-toggleable__label-arrow:before {color: black;}#sk-container-id-1 div.sk-toggleable__content {max-height: 0;max-width: 0;overflow: hidden;text-align: left;background-color: #f0f8ff;}#sk-container-id-1 div.sk-toggleable__content pre {margin: 0.2em;color: black;border-radius: 0.25em;background-color: #f0f8ff;}#sk-container-id-1 input.sk-toggleable__control:checked~div.sk-toggleable__content {max-height: 200px;max-width: 100%;overflow: auto;}#sk-container-id-1 input.sk-toggleable__control:checked~label.sk-toggleable__label-arrow:before {content: \"▾\";}#sk-container-id-1 div.sk-estimator input.sk-toggleable__control:checked~label.sk-toggleable__label {background-color: #d4ebff;}#sk-container-id-1 div.sk-label input.sk-toggleable__control:checked~label.sk-toggleable__label {background-color: #d4ebff;}#sk-container-id-1 input.sk-hidden--visually {border: 0;clip: rect(1px 1px 1px 1px);clip: rect(1px, 1px, 1px, 1px);height: 1px;margin: -1px;overflow: hidden;padding: 0;position: absolute;width: 1px;}#sk-container-id-1 div.sk-estimator {font-family: monospace;background-color: #f0f8ff;border: 1px dotted black;border-radius: 0.25em;box-sizing: border-box;margin-bottom: 0.5em;}#sk-container-id-1 div.sk-estimator:hover {background-color: #d4ebff;}#sk-container-id-1 div.sk-parallel-item::after {content: \"\";width: 100%;border-bottom: 1px solid gray;flex-grow: 1;}#sk-container-id-1 div.sk-label:hover label.sk-toggleable__label {background-color: #d4ebff;}#sk-container-id-1 div.sk-serial::before {content: \"\";position: absolute;border-left: 1px solid gray;box-sizing: border-box;top: 0;bottom: 0;left: 50%;z-index: 0;}#sk-container-id-1 div.sk-serial {display: flex;flex-direction: column;align-items: center;background-color: white;padding-right: 0.2em;padding-left: 0.2em;position: relative;}#sk-container-id-1 div.sk-item {position: relative;z-index: 1;}#sk-container-id-1 div.sk-parallel {display: flex;align-items: stretch;justify-content: center;background-color: white;position: relative;}#sk-container-id-1 div.sk-item::before, #sk-container-id-1 div.sk-parallel-item::before {content: \"\";position: absolute;border-left: 1px solid gray;box-sizing: border-box;top: 0;bottom: 0;left: 50%;z-index: -1;}#sk-container-id-1 div.sk-parallel-item {display: flex;flex-direction: column;z-index: 1;position: relative;background-color: white;}#sk-container-id-1 div.sk-parallel-item:first-child::after {align-self: flex-end;width: 50%;}#sk-container-id-1 div.sk-parallel-item:last-child::after {align-self: flex-start;width: 50%;}#sk-container-id-1 div.sk-parallel-item:only-child::after {width: 0;}#sk-container-id-1 div.sk-dashed-wrapped {border: 1px dashed gray;margin: 0 0.4em 0.5em 0.4em;box-sizing: border-box;padding-bottom: 0.4em;background-color: white;}#sk-container-id-1 div.sk-label label {font-family: monospace;font-weight: bold;display: inline-block;line-height: 1.2em;}#sk-container-id-1 div.sk-label-container {text-align: center;}#sk-container-id-1 div.sk-container {/* jupyter's `normalize.less` sets `[hidden] { display: none; }` but bootstrap.min.css set `[hidden] { display: none !important; }` so we also need the `!important` here to be able to override the default hidden behavior on the sphinx rendered scikit-learn.org. See: https://github.com/scikit-learn/scikit-learn/issues/21755 */display: inline-block !important;position: relative;}#sk-container-id-1 div.sk-text-repr-fallback {display: none;}</style><div id=\"sk-container-id-1\" class=\"sk-top-container\"><div class=\"sk-text-repr-fallback\"><pre>LinearRegression()</pre><b>In a Jupyter environment, please rerun this cell to show the HTML representation or trust the notebook. <br />On GitHub, the HTML representation is unable to render, please try loading this page with nbviewer.org.</b></div><div class=\"sk-container\" hidden><div class=\"sk-item\"><div class=\"sk-estimator sk-toggleable\"><input class=\"sk-toggleable__control sk-hidden--visually\" id=\"sk-estimator-id-1\" type=\"checkbox\" checked><label for=\"sk-estimator-id-1\" class=\"sk-toggleable__label sk-toggleable__label-arrow\">LinearRegression</label><div class=\"sk-toggleable__content\"><pre>LinearRegression()</pre></div></div></div></div></div>"
      ],
      "text/plain": [
       "LinearRegression()"
      ]
     },
     "execution_count": 60,
     "metadata": {},
     "output_type": "execute_result"
    }
   ],
   "source": [
    "regresi.fit(x_train,y_train)"
   ]
  },
  {
   "cell_type": "code",
   "execution_count": 61,
   "metadata": {},
   "outputs": [],
   "source": [
    "y_prediksi = regresi.predict(x_test)"
   ]
  },
  {
   "cell_type": "code",
   "execution_count": 62,
   "metadata": {},
   "outputs": [
    {
     "data": {
      "text/plain": [
       "array([0.29406131, 0.34431222, 0.26425433, 0.31070106, 0.27498443,\n",
       "       0.29569533, 0.34049042, 0.29678041, 0.4054651 , 0.2795869 ,\n",
       "       0.3216629 , 0.29678041, 0.31349281, 0.3216629 , 0.29187836,\n",
       "       0.29102502, 0.38244355, 0.27795288, 0.29351238, 0.30798679,\n",
       "       0.29102502, 0.28861032, 0.27468485, 0.36009863, 0.32741828,\n",
       "       0.33038674, 0.27468485, 0.29381195, 0.33249705, 0.37178611,\n",
       "       0.31288884, 0.32741828, 0.34679475, 0.34702649, 0.30766477,\n",
       "       0.37130501, 0.31676085, 0.32432696, 0.3245587 , 0.32292469,\n",
       "       0.28013584, 0.2913246 , 0.34944119, 0.27661844, 0.34096671,\n",
       "       0.27468485, 0.2795869 , 0.34780717, 0.30766477, 0.3245587 ,\n",
       "       0.29102502, 0.32741828, 0.3049505 , 0.31676085, 0.36336666,\n",
       "       0.40811154, 0.29406131, 0.36009863, 0.23811006, 0.33038674,\n",
       "       0.27498443, 0.34976321, 0.32741828, 0.28861032, 0.23865899,\n",
       "       0.31349281, 0.29896336, 0.36336666, 0.28861032, 0.31676085,\n",
       "       0.32741828, 0.3073652 , 0.31125482, 0.3049505 , 0.29187836,\n",
       "       0.3245587 , 0.36009863, 0.34617316, 0.34944119, 0.31839486,\n",
       "       0.36881765, 0.37379718, 0.34780717, 0.34944119, 0.27171639,\n",
       "       0.27988648, 0.30198204, 0.27468485, 0.32741828, 0.34096671,\n",
       "       0.31349281, 0.36554962, 0.2913246 , 0.31312058, 0.28861032,\n",
       "       0.32741828, 0.26588835, 0.32159024, 0.32159024, 0.38244355,\n",
       "       0.29406131, 0.34679475, 0.4054651 , 0.24356105, 0.33365478,\n",
       "       0.32129067, 0.37185877, 0.27739912, 0.28830593, 0.33613731,\n",
       "       0.27498443, 0.31809047, 0.30603075, 0.30439674, 0.30198204,\n",
       "       0.3073652 , 0.2380374 , 0.32129067, 0.34679475, 0.38571159,\n",
       "       0.31676085, 0.34230115, 0.3189438 , 0.31615687, 0.33068632,\n",
       "       0.28861032, 0.30821853, 0.3450929 , 0.29187836, 0.24628014,\n",
       "       0.31312058, 0.33613731, 0.34672692, 0.39800304, 0.32159024,\n",
       "       0.31349281, 0.34976321, 0.30198204, 0.30198204, 0.23235467,\n",
       "       0.29109285, 0.3245587 , 0.30198204, 0.2160145 , 0.2913246 ,\n",
       "       0.32983298, 0.29896336, 0.30253097, 0.34066713, 0.37022475,\n",
       "       0.32462653, 0.27988648, 0.34431222, 0.38850334, 0.33286927,\n",
       "       0.28805656, 0.29187836, 0.3049505 , 0.36065239, 0.31676085,\n",
       "       0.27498443, 0.36009863, 0.35139722, 0.32292469, 0.26588835,\n",
       "       0.26239339, 0.32741828, 0.29102502, 0.26588835, 0.3245587 ,\n",
       "       0.27468485, 0.42585399, 0.32432696, 0.34539247, 0.32741828,\n",
       "       0.29592707, 0.3049505 , 0.27661844, 0.36009863, 0.32741828,\n",
       "       0.32159024, 0.28861032, 0.38407757, 0.28564186, 0.29187836,\n",
       "       0.34976321, 0.25258447, 0.30603075, 0.33558837, 0.36009863,\n",
       "       0.27171639, 0.42203702, 0.27498443, 0.29187836, 0.33613731,\n",
       "       0.30766477, 0.32741828, 0.26262032, 0.23235467, 0.31615687])"
      ]
     },
     "execution_count": 62,
     "metadata": {},
     "output_type": "execute_result"
    }
   ],
   "source": [
    "y_prediksi"
   ]
  },
  {
   "cell_type": "code",
   "execution_count": 63,
   "metadata": {},
   "outputs": [],
   "source": [
    "from sklearn.metrics import mean_absolute_error, r2_score"
   ]
  },
  {
   "cell_type": "code",
   "execution_count": 64,
   "metadata": {},
   "outputs": [
    {
     "name": "stdout",
     "output_type": "stream",
     "text": [
      "MAE :  0.4456788014606692\n",
      "R2 :  -0.015275763775243423\n"
     ]
    }
   ],
   "source": [
    "print(\"MAE : \",mean_absolute_error(y_test,y_prediksi))\n",
    "print(\"R2 : \",r2_score(y_test,y_prediksi))"
   ]
  },
  {
   "cell_type": "code",
   "execution_count": 73,
   "metadata": {},
   "outputs": [],
   "source": [
    "data_baru = pd.read_csv('testing.csv')"
   ]
  },
  {
   "cell_type": "code",
   "execution_count": 74,
   "metadata": {},
   "outputs": [
    {
     "data": {
      "text/plain": [
       "array([0.52986837, 0.27988648, 0.31288884, 0.31226242, 0.26216165,\n",
       "       0.34976321, 0.14787584, 0.36009863, 0.37977949, 0.39704565,\n",
       "       0.33613731, 0.34004554, 0.1436002 , 0.16662175, 0.30798679,\n",
       "       0.30766477, 0.30198204, 0.21330022, 0.27290553, 0.36173265,\n",
       "       0.43967541, 0.4552349 ])"
      ]
     },
     "execution_count": 74,
     "metadata": {},
     "output_type": "execute_result"
    }
   ],
   "source": [
    "prediksi_baru = regresi.predict(data_baru)\n",
    "prediksi_baru"
   ]
  },
  {
   "cell_type": "code",
   "execution_count": 78,
   "metadata": {},
   "outputs": [],
   "source": [
    "from sklearn.linear_model import LinearRegression\n",
    "\n",
    "# Melatih model regresi\n",
    "model = LinearRegression()\n",
    "model.fit(x_train, y_train)\n",
    "\n",
    "# Menyimpan model ke file 'prediksi.sav'\n",
    "import pickle\n",
    "with open('prediksi.sav', 'wb') as model_file:\n",
    "    pickle.dump(model, model_file)\n"
   ]
  },
  {
   "cell_type": "code",
   "execution_count": null,
   "metadata": {},
   "outputs": [],
   "source": []
  },
  {
   "cell_type": "code",
   "execution_count": 76,
   "metadata": {},
   "outputs": [],
   "source": [
    "import pickle\n",
    "\n",
    "filename = 'prediksi.sav'\n",
    "pickle.dump(y_prediksi, open(filename, 'wb'))"
   ]
  },
  {
   "cell_type": "code",
   "execution_count": 77,
   "metadata": {},
   "outputs": [],
   "source": [
    "import pickle\n",
    "\n",
    "filename = 'prediksi.pkl'\n",
    "pickle.dump(y_prediksi, open(filename, 'wb'))"
   ]
  }
 ],
 "metadata": {
  "kernelspec": {
   "display_name": "Python 3",
   "language": "python",
   "name": "python3"
  },
  "language_info": {
   "codemirror_mode": {
    "name": "ipython",
    "version": 3
   },
   "file_extension": ".py",
   "mimetype": "text/x-python",
   "name": "python",
   "nbconvert_exporter": "python",
   "pygments_lexer": "ipython3",
   "version": "3.10.0"
  }
 },
 "nbformat": 4,
 "nbformat_minor": 2
}
